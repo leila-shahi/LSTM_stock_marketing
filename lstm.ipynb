{
 "cells": [
  {
   "cell_type": "markdown",
   "id": "d30e6ab4",
   "metadata": {},
   "source": [
    "#predicting stock market using LSTM algorithm"
   ]
  },
  {
   "cell_type": "code",
   "execution_count": 1,
   "id": "0ad74e25",
   "metadata": {},
   "outputs": [],
   "source": [
    "import math\n",
    "import numpy as np\n",
    "import pandas as pd\n",
    "from sklearn.preprocessing import MinMaxScaler\n",
    "import matplotlib.pyplot as plt\n",
    "from sklearn.preprocessing import MinMaxScaler\n",
    "from keras.models import Sequential\n",
    "from keras.layers import Dense,LSTM,Dropout"
   ]
  },
  {
   "cell_type": "code",
   "execution_count": 2,
   "id": "bbb43cac",
   "metadata": {},
   "outputs": [],
   "source": [
    "#pip install yfinance"
   ]
  },
  {
   "cell_type": "code",
   "execution_count": 2,
   "id": "0382b34b",
   "metadata": {},
   "outputs": [],
   "source": [
    "import yfinance as yfin\n",
    "yfin.pdr_override()"
   ]
  },
  {
   "cell_type": "code",
   "execution_count": 4,
   "id": "7152f619",
   "metadata": {},
   "outputs": [],
   "source": [
    "#pip install pandas_datareader"
   ]
  },
  {
   "cell_type": "code",
   "execution_count": 3,
   "id": "5454475c",
   "metadata": {},
   "outputs": [],
   "source": [
    "from pandas_datareader import data as pdr"
   ]
  },
  {
   "cell_type": "code",
   "execution_count": 4,
   "id": "71965ca9",
   "metadata": {},
   "outputs": [
    {
     "name": "stdout",
     "output_type": "stream",
     "text": [
      "[*********************100%***********************]  1 of 1 completed\n",
      "                 Open       High        Low      Close  Adj Close     Volume\n",
      "Date                                                                        \n",
      "2012-01-03  14.621429  14.732143  14.607143  14.686786  12.482924  302220800\n",
      "2012-01-04  14.642857  14.810000  14.617143  14.765714  12.550010  260022000\n",
      "2012-01-05  14.819643  14.948214  14.738214  14.929643  12.689340  271269600\n",
      "2012-01-06  14.991786  15.098214  14.972143  15.085714  12.821993  318292800\n",
      "2012-01-09  15.196429  15.276786  15.048214  15.061786  12.801654  394024400\n",
      "...               ...        ...        ...        ...        ...        ...\n",
      "2019-12-10  67.150002  67.517502  66.464996  67.120003  65.565025   90420400\n",
      "2019-12-11  67.202499  67.775002  67.125000  67.692497  66.124260   78756800\n",
      "2019-12-12  66.945000  68.139999  66.830002  67.864998  66.292770  137310400\n",
      "2019-12-13  67.864998  68.824997  67.732498  68.787498  67.193886  133587600\n",
      "2019-12-16  69.250000  70.197502  69.245003  69.964996  68.344116  128186000\n",
      "\n",
      "[2002 rows x 6 columns]\n"
     ]
    }
   ],
   "source": [
    "#df=pd.read_csv('AAPL.csv')\n",
    "df = pdr.get_data_yahoo('AAPL', start='2012-01-01', end='2019-12-17')\n",
    "print(df)"
   ]
  },
  {
   "cell_type": "code",
   "execution_count": 5,
   "id": "e77a0ef0",
   "metadata": {},
   "outputs": [],
   "source": [
    "# creat the 'Close Cloumn'\n",
    "data=df.filter(['Close'])\n",
    "\n",
    "# convert to numpy\n",
    "dataset=data.values"
   ]
  },
  {
   "cell_type": "code",
   "execution_count": 6,
   "id": "9ab6c4c4",
   "metadata": {},
   "outputs": [
    {
     "data": {
      "text/plain": [
       "(2002, 1)"
      ]
     },
     "execution_count": 6,
     "metadata": {},
     "output_type": "execute_result"
    }
   ],
   "source": [
    "dataset.shape"
   ]
  },
  {
   "cell_type": "code",
   "execution_count": 7,
   "id": "c251d9f4",
   "metadata": {},
   "outputs": [],
   "source": [
    "# scale the data\n",
    "scalar=MinMaxScaler(feature_range=(0,1))\n",
    "scaled_data=scalar.fit_transform(dataset)\n",
    "\n",
    "#scaled_data"
   ]
  },
  {
   "cell_type": "code",
   "execution_count": 8,
   "id": "139406a2",
   "metadata": {},
   "outputs": [],
   "source": [
    "#trained data\n",
    "training_len=math.ceil(len(dataset)*0.8)\n",
    "training_data=scaled_data[0:training_len,:]"
   ]
  },
  {
   "cell_type": "code",
   "execution_count": 9,
   "id": "afbf662f",
   "metadata": {},
   "outputs": [],
   "source": [
    "x_train=[]\n",
    "y_train=[]"
   ]
  },
  {
   "cell_type": "code",
   "execution_count": 10,
   "id": "83b7eb29",
   "metadata": {},
   "outputs": [],
   "source": [
    "for i in range(60,len(training_data)):\n",
    "    x_train.append(training_data[i-60:i,0])\n",
    "    y_train.append(training_data[i,0])\n",
    "    "
   ]
  },
  {
   "cell_type": "code",
   "execution_count": 11,
   "id": "abf6f317",
   "metadata": {},
   "outputs": [],
   "source": [
    "x_train,y_train=np.array(x_train),np.array(y_train)"
   ]
  },
  {
   "cell_type": "code",
   "execution_count": 12,
   "id": "853e9a14",
   "metadata": {},
   "outputs": [
    {
     "data": {
      "text/plain": [
       "(1542, 60)"
      ]
     },
     "execution_count": 12,
     "metadata": {},
     "output_type": "execute_result"
    }
   ],
   "source": [
    "x_train.shape"
   ]
  },
  {
   "cell_type": "code",
   "execution_count": 13,
   "id": "3ddc2483",
   "metadata": {},
   "outputs": [],
   "source": [
    "x_train=np.reshape(x_train,(x_train.shape[0],x_train.shape[1],1))"
   ]
  },
  {
   "cell_type": "code",
   "execution_count": 14,
   "id": "ced04363",
   "metadata": {},
   "outputs": [
    {
     "data": {
      "text/plain": [
       "(1542, 60, 1)"
      ]
     },
     "execution_count": 14,
     "metadata": {},
     "output_type": "execute_result"
    }
   ],
   "source": [
    "x_train.shape"
   ]
  },
  {
   "cell_type": "code",
   "execution_count": 15,
   "id": "eae6a090",
   "metadata": {},
   "outputs": [],
   "source": [
    "#build the lstm2 with dropout\n",
    "model1=Sequential()\n",
    "model1.add(LSTM(50,return_sequences=True,input_shape=(x_train.shape[1],1)))\n",
    "model1.add(Dropout(0.5))\n",
    "model1.add(LSTM(50,return_sequences=False))\n",
    "model1.add(Dense(25))\n",
    "model1.add(Dense(1))"
   ]
  },
  {
   "cell_type": "code",
   "execution_count": 16,
   "id": "4a15a775",
   "metadata": {},
   "outputs": [],
   "source": [
    "#compile the model with different optimizer\n",
    "model1.compile(optimizer='rmsprop',loss='mean_squared_error')"
   ]
  },
  {
   "cell_type": "code",
   "execution_count": 17,
   "id": "cdf4447c",
   "metadata": {},
   "outputs": [
    {
     "name": "stdout",
     "output_type": "stream",
     "text": [
      "1542/1542 [==============================] - 44s 26ms/step - loss: 0.0015\n"
     ]
    },
    {
     "data": {
      "text/plain": [
       "<keras.callbacks.History at 0x28f94acf488>"
      ]
     },
     "execution_count": 17,
     "metadata": {},
     "output_type": "execute_result"
    }
   ],
   "source": [
    "#train the model\n",
    "model1.fit(x_train,y_train,batch_size=1,epochs=1)"
   ]
  },
  {
   "cell_type": "code",
   "execution_count": 18,
   "id": "7fb6e90f",
   "metadata": {},
   "outputs": [
    {
     "name": "stdout",
     "output_type": "stream",
     "text": [
      "460\n",
      "460\n"
     ]
    }
   ],
   "source": [
    "# Creating the testing dataset\n",
    "\n",
    "test_data=scaled_data[training_len-60:,:]\n",
    "print(len(test_data))\n",
    "x_test=[] \n",
    "y_test=dataset[training_len:,:]\n",
    "print(len(test_data))\n",
    "for i in range(60,len(test_data)):\n",
    "  x_test.append(test_data[i-60:i,0])"
   ]
  },
  {
   "cell_type": "code",
   "execution_count": 19,
   "id": "39f58fd6",
   "metadata": {},
   "outputs": [],
   "source": [
    "#convert x_test to numpy arrays\n",
    "x_test=np.array(x_test)"
   ]
  },
  {
   "cell_type": "code",
   "execution_count": 20,
   "id": "bf2ca652",
   "metadata": {},
   "outputs": [
    {
     "data": {
      "text/plain": [
       "(400, 60)"
      ]
     },
     "execution_count": 20,
     "metadata": {},
     "output_type": "execute_result"
    }
   ],
   "source": [
    "x_test.shape"
   ]
  },
  {
   "cell_type": "code",
   "execution_count": 21,
   "id": "256151f7",
   "metadata": {},
   "outputs": [
    {
     "data": {
      "text/plain": [
       "(400, 1)"
      ]
     },
     "execution_count": 21,
     "metadata": {},
     "output_type": "execute_result"
    }
   ],
   "source": [
    "y_test.shape"
   ]
  },
  {
   "cell_type": "code",
   "execution_count": 22,
   "id": "e776d8e6",
   "metadata": {},
   "outputs": [],
   "source": [
    "# Reshape x_test\n",
    "\n",
    "x_test=np.reshape(x_test,(x_test.shape[0],x_test.shape[1],1))"
   ]
  },
  {
   "cell_type": "code",
   "execution_count": 23,
   "id": "e062ef59",
   "metadata": {},
   "outputs": [
    {
     "data": {
      "text/plain": [
       "(400, 60, 1)"
      ]
     },
     "execution_count": 23,
     "metadata": {},
     "output_type": "execute_result"
    }
   ],
   "source": [
    "x_test.shape"
   ]
  },
  {
   "cell_type": "code",
   "execution_count": 24,
   "id": "b8f055ef",
   "metadata": {},
   "outputs": [],
   "source": [
    "# Prediction\n",
    "predictions=model1.predict(x_test)\n",
    "predictions=scalar.inverse_transform(predictions)\n"
   ]
  },
  {
   "cell_type": "code",
   "execution_count": 25,
   "id": "02804d55",
   "metadata": {},
   "outputs": [
    {
     "data": {
      "text/plain": [
       "3.6742700576782226"
      ]
     },
     "execution_count": 25,
     "metadata": {},
     "output_type": "execute_result"
    }
   ],
   "source": [
    "# The root mean squared error\n",
    "rmse=np.sqrt(np.mean(predictions-y_test)**2)\n",
    "rmse"
   ]
  },
  {
   "cell_type": "code",
   "execution_count": 26,
   "id": "d25ef8af",
   "metadata": {},
   "outputs": [
    {
     "name": "stderr",
     "output_type": "stream",
     "text": [
      "c:\\users\\pc\\appdata\\local\\programs\\python\\python37\\lib\\site-packages\\ipykernel_launcher.py:5: SettingWithCopyWarning: \n",
      "A value is trying to be set on a copy of a slice from a DataFrame.\n",
      "Try using .loc[row_indexer,col_indexer] = value instead\n",
      "\n",
      "See the caveats in the documentation: https://pandas.pydata.org/pandas-docs/stable/user_guide/indexing.html#returning-a-view-versus-a-copy\n",
      "  \"\"\"\n"
     ]
    },
    {
     "data": {
      "image/png": "[encoded data removed]",
      "text/plain": [
       "<Figure size 1152x576 with 1 Axes>"
      ]
     },
     "metadata": {
      "needs_background": "light"
     },
     "output_type": "display_data"
    }
   ],
   "source": [
    "#Plot the data\n",
    "\n",
    "train=data[:training_len]\n",
    "valid=data[training_len:]\n",
    "valid['Predictions']=predictions\n",
    "plt.figure(figsize=(16,8))\n",
    "plt.title('Model')\n",
    "plt.xlabel('Date',fontsize=18)\n",
    "plt.ylabel('Close Price USD ($)' , fontsize=18)\n",
    "plt.plot(train['Close'])\n",
    "plt.plot(valid[['Close', 'Predictions']])\n",
    "plt.legend(['Train', 'Val', 'Predictions'], loc='lower right')\n",
    "plt.show()\n"
   ]
  },
  {
   "cell_type": "code",
   "execution_count": 27,
   "id": "45a00059",
   "metadata": {},
   "outputs": [
    {
     "data": {
      "text/html": [
       "<div>\n",
       "<style scoped>\n",
       "    .dataframe tbody tr th:only-of-type {\n",
       "        vertical-align: middle;\n",
       "    }\n",
       "\n",
       "    .dataframe tbody tr th {\n",
       "        vertical-align: top;\n",
       "    }\n",
       "\n",
       "    .dataframe thead th {\n",
       "        text-align: right;\n",
       "    }\n",
       "</style>\n",
       "<table border=\"1\" class=\"dataframe\">\n",
       "  <thead>\n",
       "    <tr style=\"text-align: right;\">\n",
       "      <th></th>\n",
       "      <th>Close</th>\n",
       "      <th>Predictions</th>\n",
       "    </tr>\n",
       "    <tr>\n",
       "      <th>Date</th>\n",
       "      <th></th>\n",
       "      <th></th>\n",
       "    </tr>\n",
       "  </thead>\n",
       "  <tbody>\n",
       "    <tr>\n",
       "      <th>2018-05-16</th>\n",
       "      <td>47.044998</td>\n",
       "      <td>50.466507</td>\n",
       "    </tr>\n",
       "    <tr>\n",
       "      <th>2018-05-17</th>\n",
       "      <td>46.747501</td>\n",
       "      <td>50.642849</td>\n",
       "    </tr>\n",
       "    <tr>\n",
       "      <th>2018-05-18</th>\n",
       "      <td>46.577499</td>\n",
       "      <td>50.732510</td>\n",
       "    </tr>\n",
       "    <tr>\n",
       "      <th>2018-05-21</th>\n",
       "      <td>46.907501</td>\n",
       "      <td>50.749779</td>\n",
       "    </tr>\n",
       "    <tr>\n",
       "      <th>2018-05-22</th>\n",
       "      <td>46.790001</td>\n",
       "      <td>50.764221</td>\n",
       "    </tr>\n",
       "    <tr>\n",
       "      <th>...</th>\n",
       "      <td>...</td>\n",
       "      <td>...</td>\n",
       "    </tr>\n",
       "    <tr>\n",
       "      <th>2019-12-10</th>\n",
       "      <td>67.120003</td>\n",
       "      <td>69.523689</td>\n",
       "    </tr>\n",
       "    <tr>\n",
       "      <th>2019-12-11</th>\n",
       "      <td>67.692497</td>\n",
       "      <td>69.674484</td>\n",
       "    </tr>\n",
       "    <tr>\n",
       "      <th>2019-12-12</th>\n",
       "      <td>67.864998</td>\n",
       "      <td>69.875076</td>\n",
       "    </tr>\n",
       "    <tr>\n",
       "      <th>2019-12-13</th>\n",
       "      <td>68.787498</td>\n",
       "      <td>70.093018</td>\n",
       "    </tr>\n",
       "    <tr>\n",
       "      <th>2019-12-16</th>\n",
       "      <td>69.964996</td>\n",
       "      <td>70.389145</td>\n",
       "    </tr>\n",
       "  </tbody>\n",
       "</table>\n",
       "<p>400 rows × 2 columns</p>\n",
       "</div>"
      ],
      "text/plain": [
       "                Close  Predictions\n",
       "Date                              \n",
       "2018-05-16  47.044998    50.466507\n",
       "2018-05-17  46.747501    50.642849\n",
       "2018-05-18  46.577499    50.732510\n",
       "2018-05-21  46.907501    50.749779\n",
       "2018-05-22  46.790001    50.764221\n",
       "...               ...          ...\n",
       "2019-12-10  67.120003    69.523689\n",
       "2019-12-11  67.692497    69.674484\n",
       "2019-12-12  67.864998    69.875076\n",
       "2019-12-13  68.787498    70.093018\n",
       "2019-12-16  69.964996    70.389145\n",
       "\n",
       "[400 rows x 2 columns]"
      ]
     },
     "execution_count": 27,
     "metadata": {},
     "output_type": "execute_result"
    }
   ],
   "source": [
    "valid"
   ]
  },
  {
   "cell_type": "code",
   "execution_count": 28,
   "id": "65dc6868",
   "metadata": {},
   "outputs": [
    {
     "name": "stdout",
     "output_type": "stream",
     "text": [
      "[*********************100%***********************]  1 of 1 completed\n"
     ]
    }
   ],
   "source": [
    "aapl = pdr.get_data_yahoo('AAPL', start='2012-01-01', end='2019-12-17')"
   ]
  },
  {
   "cell_type": "code",
   "execution_count": 29,
   "id": "919254a3",
   "metadata": {},
   "outputs": [],
   "source": [
    "new_df=aapl.filter(['Close'])"
   ]
  },
  {
   "cell_type": "code",
   "execution_count": 30,
   "id": "b56f9341",
   "metadata": {},
   "outputs": [
    {
     "data": {
      "text/html": [
       "<div>\n",
       "<style scoped>\n",
       "    .dataframe tbody tr th:only-of-type {\n",
       "        vertical-align: middle;\n",
       "    }\n",
       "\n",
       "    .dataframe tbody tr th {\n",
       "        vertical-align: top;\n",
       "    }\n",
       "\n",
       "    .dataframe thead th {\n",
       "        text-align: right;\n",
       "    }\n",
       "</style>\n",
       "<table border=\"1\" class=\"dataframe\">\n",
       "  <thead>\n",
       "    <tr style=\"text-align: right;\">\n",
       "      <th></th>\n",
       "      <th>Close</th>\n",
       "    </tr>\n",
       "    <tr>\n",
       "      <th>Date</th>\n",
       "      <th></th>\n",
       "    </tr>\n",
       "  </thead>\n",
       "  <tbody>\n",
       "    <tr>\n",
       "      <th>2012-01-03</th>\n",
       "      <td>14.686786</td>\n",
       "    </tr>\n",
       "    <tr>\n",
       "      <th>2012-01-04</th>\n",
       "      <td>14.765714</td>\n",
       "    </tr>\n",
       "    <tr>\n",
       "      <th>2012-01-05</th>\n",
       "      <td>14.929643</td>\n",
       "    </tr>\n",
       "    <tr>\n",
       "      <th>2012-01-06</th>\n",
       "      <td>15.085714</td>\n",
       "    </tr>\n",
       "    <tr>\n",
       "      <th>2012-01-09</th>\n",
       "      <td>15.061786</td>\n",
       "    </tr>\n",
       "    <tr>\n",
       "      <th>...</th>\n",
       "      <td>...</td>\n",
       "    </tr>\n",
       "    <tr>\n",
       "      <th>2019-12-10</th>\n",
       "      <td>67.120003</td>\n",
       "    </tr>\n",
       "    <tr>\n",
       "      <th>2019-12-11</th>\n",
       "      <td>67.692497</td>\n",
       "    </tr>\n",
       "    <tr>\n",
       "      <th>2019-12-12</th>\n",
       "      <td>67.864998</td>\n",
       "    </tr>\n",
       "    <tr>\n",
       "      <th>2019-12-13</th>\n",
       "      <td>68.787498</td>\n",
       "    </tr>\n",
       "    <tr>\n",
       "      <th>2019-12-16</th>\n",
       "      <td>69.964996</td>\n",
       "    </tr>\n",
       "  </tbody>\n",
       "</table>\n",
       "<p>2002 rows × 1 columns</p>\n",
       "</div>"
      ],
      "text/plain": [
       "                Close\n",
       "Date                 \n",
       "2012-01-03  14.686786\n",
       "2012-01-04  14.765714\n",
       "2012-01-05  14.929643\n",
       "2012-01-06  15.085714\n",
       "2012-01-09  15.061786\n",
       "...               ...\n",
       "2019-12-10  67.120003\n",
       "2019-12-11  67.692497\n",
       "2019-12-12  67.864998\n",
       "2019-12-13  68.787498\n",
       "2019-12-16  69.964996\n",
       "\n",
       "[2002 rows x 1 columns]"
      ]
     },
     "execution_count": 30,
     "metadata": {},
     "output_type": "execute_result"
    }
   ],
   "source": [
    "new_df"
   ]
  },
  {
   "cell_type": "code",
   "execution_count": 31,
   "id": "6d8ad453",
   "metadata": {},
   "outputs": [
    {
     "name": "stdout",
     "output_type": "stream",
     "text": [
      "[*********************100%***********************]  1 of 1 completed\n",
      "[[70.805824]]\n"
     ]
    }
   ],
   "source": [
    "aapl = pdr.get_data_yahoo('AAPL', start='2012-01-01', end='2019-12-17')\n",
    "new_df=aapl.filter(['Close'])\n",
    "\n",
    "\n",
    "# Get the last 60 day Closing price values and convert the dataframe to an array\n",
    "last_60_days=new_df[-60:].values\n",
    "\n",
    "\n",
    "# Scale the data to be values between 0 and 1\n",
    "last_60_days_scaled=scalar.transform(last_60_days)\n",
    "\n",
    "\n",
    "X_test=[]\n",
    "X_test.append(last_60_days_scaled)\n",
    "\n",
    "# Convert the numpy array\n",
    "X_test=np.array(X_test)\n",
    "\n",
    "# Reshape the data\n",
    "X_test=np.reshape(X_test,(X_test.shape[0],X_test.shape[1],1))\n",
    "\n",
    "pred_price=model1.predict(X_test)\n",
    "\n",
    "# Get the predicted scalar price\n",
    "pred_price=scalar.inverse_transform(pred_price)\n",
    "print(pred_price)"
   ]
  },
  {
   "cell_type": "code",
   "execution_count": 32,
   "id": "e99f0670",
   "metadata": {},
   "outputs": [
    {
     "name": "stdout",
     "output_type": "stream",
     "text": [
      "[*********************100%***********************]  1 of 1 completed\n",
      "Date\n",
      "2019-12-17    70.102501\n",
      "2019-12-18    69.934998\n",
      "2019-12-19    70.004997\n",
      "Name: Close, dtype: float64\n"
     ]
    }
   ],
   "source": [
    "aapl_2= pdr.get_data_yahoo('AAPL', start='2019-12-17', end='2019-12-20')\n",
    "print(aapl_2['Close'])"
   ]
  },
  {
   "cell_type": "code",
   "execution_count": null,
   "id": "e3c6a27a",
   "metadata": {},
   "outputs": [],
   "source": []
  }
 ],
 "metadata": {
  "kernelspec": {
   "display_name": "Python 3 (ipykernel)",
   "language": "python",
   "name": "python3"
  },
  "language_info": {
   "codemirror_mode": {
    "name": "ipython",
    "version": 3
   },
   "file_extension": ".py",
   "mimetype": "text/x-python",
   "name": "python",
   "nbconvert_exporter": "python",
   "pygments_lexer": "ipython3",
   "version": "3.7.8"
  }
 },
 "nbformat": 4,
 "nbformat_minor": 5
}
